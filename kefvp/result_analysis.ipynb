{
 "cells": [
  {
   "cell_type": "code",
   "execution_count": 10,
   "metadata": {},
   "outputs": [],
   "source": [
    "import pandas as pd \n",
    "import glob as glob\n",
    "import os "
   ]
  },
  {
   "cell_type": "code",
   "execution_count": 11,
   "metadata": {},
   "outputs": [],
   "source": [
    "output_path = \"./output/\"\n",
    "output_dirs = glob.glob(output_path + \"*/\")\n",
    "file_names = [i.split(\"/\")[-1] for i in glob.glob(\"./output/ec_TextSequence/*\") if \"avg\" in i]"
   ]
  },
  {
   "cell_type": "code",
   "execution_count": 12,
   "metadata": {},
   "outputs": [],
   "source": [
    "output_dict = {}\n",
    "for file in file_names:\n",
    "    out_file = {}\n",
    "    for output_dir in output_dirs:\n",
    "        if file in output_dir:\n",
    "            data = pd.read_csv(output_dir+file, index_col=0)\n",
    "            data.columns = [output_dir.split(\"/\")[-2]]\n",
    "            out_file[output_dir.split(\"/\")[-2]] = data\n",
    "    output_dict[file] = out_file"
   ]
  },
  {
   "cell_type": "code",
   "execution_count": 13,
   "metadata": {},
   "outputs": [],
   "source": [
    "\n",
    "output_dict = {}\n",
    "for file_name in file_names:\n",
    "    out_file = {}\n",
    "    for output_dir in output_dirs:\n",
    "        # Construct the full path once\n",
    "        full_path = os.path.join(output_dir, file_name)\n",
    "        \n",
    "        # Check if the file exists in this directory\n",
    "        if os.path.exists(full_path):\n",
    "            # Read the data\n",
    "            data = pd.read_csv(full_path, index_col=0)\n",
    "            \n",
    "            # Get the directory name more efficiently\n",
    "            dir_name = os.path.basename(os.path.dirname(full_path))\n",
    "\n",
    "            # Update column names and add to out_file\n",
    "            data.columns = [dir_name]\n",
    "            out_file[dir_name] = data[dir_name].to_list()\n",
    "            \n",
    "    # Only add to output_dict if out_file is not empty\n",
    "    if out_file:\n",
    "        output_dict[file_name] = out_file"
   ]
  },
  {
   "cell_type": "code",
   "execution_count": 14,
   "metadata": {},
   "outputs": [
    {
     "data": {
      "text/plain": [
       "dict_keys(['cond_avg_day_mse_df_3.csv', 'cond_avg_day_mse_df_15.csv', 'cond_avg_day_mse_df_30.csv', 'cond_avg_day_mse_df_7.csv'])"
      ]
     },
     "execution_count": 14,
     "metadata": {},
     "output_type": "execute_result"
    }
   ],
   "source": [
    "output_dict.keys()"
   ]
  },
  {
   "cell_type": "code",
   "execution_count": 15,
   "metadata": {},
   "outputs": [
    {
     "name": "stdout",
     "output_type": "stream",
     "text": [
      "ec_gpt_summary_underweight     0.677702\n",
      "ec_TextSequence                0.664090\n",
      "ec_gpt_summary                 0.668732\n",
      "ec_ECT                         0.652818\n",
      "ec_gpt_analysis_underweight    0.647913\n",
      "ec_gpt_summary_overweight      0.659892\n",
      "ec_gpt_analysis_overweight     0.682511\n",
      "dtype: float64\n"
     ]
    }
   ],
   "source": [
    "print(pd.DataFrame(output_dict[\"cond_avg_day_mse_df_3.csv\"]).mean())"
   ]
  },
  {
   "cell_type": "code",
   "execution_count": null,
   "metadata": {},
   "outputs": [],
   "source": []
  },
  {
   "cell_type": "code",
   "execution_count": 16,
   "metadata": {},
   "outputs": [
    {
     "name": "stdout",
     "output_type": "stream",
     "text": [
      "ec_gpt_summary_underweight     0.307969\n",
      "ec_TextSequence                0.394543\n",
      "ec_gpt_summary                 0.308214\n",
      "ec_ECT                         0.351432\n",
      "ec_gpt_analysis_underweight    0.306383\n",
      "ec_gpt_summary_overweight      0.317280\n",
      "ec_gpt_analysis_overweight     0.303467\n",
      "dtype: float64\n"
     ]
    }
   ],
   "source": [
    "print(pd.DataFrame(output_dict[\"cond_avg_day_mse_df_7.csv\"]).mean())"
   ]
  },
  {
   "cell_type": "code",
   "execution_count": 17,
   "metadata": {},
   "outputs": [
    {
     "data": {
      "text/plain": [
       "ec_gpt_summary_underweight     0.197323\n",
       "ec_TextSequence                0.198028\n",
       "ec_gpt_summary                 0.197200\n",
       "ec_ECT                         0.213133\n",
       "ec_gpt_analysis_underweight    0.197445\n",
       "ec_gpt_summary_overweight      0.198927\n",
       "ec_gpt_analysis_overweight     0.211911\n",
       "dtype: float64"
      ]
     },
     "execution_count": 17,
     "metadata": {},
     "output_type": "execute_result"
    }
   ],
   "source": [
    "pd.DataFrame(output_dict[\"cond_avg_day_mse_df_15.csv\"]).mean()"
   ]
  },
  {
   "cell_type": "code",
   "execution_count": 18,
   "metadata": {},
   "outputs": [
    {
     "name": "stdout",
     "output_type": "stream",
     "text": [
      "ec_gpt_summary_underweight     0.121292\n",
      "ec_TextSequence                0.183109\n",
      "ec_gpt_summary                 0.123913\n",
      "ec_ECT                         0.120230\n",
      "ec_gpt_analysis_underweight    0.120420\n",
      "ec_gpt_summary_overweight      0.151877\n",
      "ec_gpt_analysis_overweight     0.121995\n",
      "dtype: float64\n"
     ]
    }
   ],
   "source": [
    "print(pd.DataFrame(output_dict[\"cond_avg_day_mse_df_30.csv\"]).mean())"
   ]
  },
  {
   "cell_type": "code",
   "execution_count": 1,
   "metadata": {},
   "outputs": [
    {
     "ename": "NameError",
     "evalue": "name 'pd' is not defined",
     "output_type": "error",
     "traceback": [
      "\u001b[0;31m---------------------------------------------------------------------------\u001b[0m",
      "\u001b[0;31mNameError\u001b[0m                                 Traceback (most recent call last)",
      "Cell \u001b[0;32mIn[1], line 2\u001b[0m\n\u001b[1;32m      1\u001b[0m column_names \u001b[38;5;241m=\u001b[39m [\u001b[38;5;124m\"\u001b[39m\u001b[38;5;124m3\u001b[39m\u001b[38;5;124m\"\u001b[39m, \u001b[38;5;124m\"\u001b[39m\u001b[38;5;124m7\u001b[39m\u001b[38;5;124m\"\u001b[39m, \u001b[38;5;124m\"\u001b[39m\u001b[38;5;124m15\u001b[39m\u001b[38;5;124m\"\u001b[39m, \u001b[38;5;124m\"\u001b[39m\u001b[38;5;124m30\u001b[39m\u001b[38;5;124m\"\u001b[39m]\n\u001b[0;32m----> 2\u001b[0m result \u001b[38;5;241m=\u001b[39m \u001b[43mpd\u001b[49m\u001b[38;5;241m.\u001b[39mconcat([pd\u001b[38;5;241m.\u001b[39mDataFrame(output_dict[\u001b[38;5;124m\"\u001b[39m\u001b[38;5;124mcond_avg_day_mse_df_3.csv\u001b[39m\u001b[38;5;124m\"\u001b[39m])\u001b[38;5;241m.\u001b[39mmean(),\n\u001b[1;32m      3\u001b[0m                    pd\u001b[38;5;241m.\u001b[39mDataFrame(output_dict[\u001b[38;5;124m\"\u001b[39m\u001b[38;5;124mcond_avg_day_mse_df_7.csv\u001b[39m\u001b[38;5;124m\"\u001b[39m])\u001b[38;5;241m.\u001b[39mmean(),\n\u001b[1;32m      4\u001b[0m                    pd\u001b[38;5;241m.\u001b[39mDataFrame(output_dict[\u001b[38;5;124m\"\u001b[39m\u001b[38;5;124mcond_avg_day_mse_df_15.csv\u001b[39m\u001b[38;5;124m\"\u001b[39m])\u001b[38;5;241m.\u001b[39mmean(),\n\u001b[1;32m      5\u001b[0m                    pd\u001b[38;5;241m.\u001b[39mDataFrame(output_dict[\u001b[38;5;124m\"\u001b[39m\u001b[38;5;124mcond_avg_day_mse_df_30.csv\u001b[39m\u001b[38;5;124m\"\u001b[39m])\u001b[38;5;241m.\u001b[39mmean()],\n\u001b[1;32m      6\u001b[0m                   axis\u001b[38;5;241m=\u001b[39m\u001b[38;5;241m1\u001b[39m,\n\u001b[1;32m      7\u001b[0m                   )\n\u001b[1;32m      8\u001b[0m result\u001b[38;5;241m.\u001b[39mcolumns \u001b[38;5;241m=\u001b[39m column_names\n",
      "\u001b[0;31mNameError\u001b[0m: name 'pd' is not defined"
     ]
    }
   ],
   "source": [
    "column_names = [\"3\", \"7\", \"15\", \"30\"]\n",
    "result = pd.concat([pd.DataFrame(output_dict[\"cond_avg_day_mse_df_3.csv\"]).mean(),\n",
    "                   pd.DataFrame(output_dict[\"cond_avg_day_mse_df_7.csv\"]).mean(),\n",
    "                   pd.DataFrame(output_dict[\"cond_avg_day_mse_df_15.csv\"]).mean(),\n",
    "                   pd.DataFrame(output_dict[\"cond_avg_day_mse_df_30.csv\"]).mean()],\n",
    "                  axis=1,\n",
    "                  )\n",
    "result.columns = column_names"
   ]
  },
  {
   "cell_type": "code",
   "execution_count": null,
   "metadata": {},
   "outputs": [],
   "source": []
  }
 ],
 "metadata": {
  "kernelspec": {
   "display_name": "kefvp",
   "language": "python",
   "name": "python3"
  },
  "language_info": {
   "codemirror_mode": {
    "name": "ipython",
    "version": 3
   },
   "file_extension": ".py",
   "mimetype": "text/x-python",
   "name": "python",
   "nbconvert_exporter": "python",
   "pygments_lexer": "ipython3",
   "version": "3.8.18"
  }
 },
 "nbformat": 4,
 "nbformat_minor": 2
}
